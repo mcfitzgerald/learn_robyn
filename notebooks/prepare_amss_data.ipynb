{
 "cells": [
  {
   "cell_type": "code",
   "execution_count": 1,
   "id": "c258325e",
   "metadata": {},
   "outputs": [],
   "source": [
    "import pandas as pd"
   ]
  },
  {
   "cell_type": "code",
   "execution_count": 2,
   "id": "5e88d5c8",
   "metadata": {},
   "outputs": [],
   "source": [
    "df = pd.read_csv(\"../R/amss_simulation/dat.csv\", index_col=0)"
   ]
  },
  {
   "cell_type": "code",
   "execution_count": 3,
   "id": "1cfe2f4d",
   "metadata": {},
   "outputs": [
    {
     "data": {
      "text/plain": [
       "(156,)"
      ]
     },
     "execution_count": 3,
     "metadata": {},
     "output_type": "execute_result"
    }
   ],
   "source": [
    "df['time.index'].shape"
   ]
  },
  {
   "cell_type": "code",
   "execution_count": 4,
   "id": "40ef9fb7",
   "metadata": {},
   "outputs": [],
   "source": [
    "df['date'] = pd.date_range(start='1/1/2018', periods=156, freq='W')\n"
   ]
  },
  {
   "cell_type": "code",
   "execution_count": 5,
   "id": "0b49818c",
   "metadata": {},
   "outputs": [],
   "source": [
    "df.to_csv(\"dat_with_weeks.csv\")"
   ]
  },
  {
   "cell_type": "code",
   "execution_count": 6,
   "id": "a9800bf7",
   "metadata": {},
   "outputs": [
    {
     "data": {
      "text/plain": [
       "1     2018-01-07\n",
       "2     2018-01-14\n",
       "3     2018-01-21\n",
       "4     2018-01-28\n",
       "5     2018-02-04\n",
       "         ...    \n",
       "152   2020-11-29\n",
       "153   2020-12-06\n",
       "154   2020-12-13\n",
       "155   2020-12-20\n",
       "156   2020-12-27\n",
       "Name: date, Length: 156, dtype: datetime64[ns]"
      ]
     },
     "execution_count": 6,
     "metadata": {},
     "output_type": "execute_result"
    }
   ],
   "source": [
    "df['date']"
   ]
  },
  {
   "cell_type": "code",
   "execution_count": 8,
   "id": "6902c5b9",
   "metadata": {},
   "outputs": [
    {
     "data": {
      "text/plain": [
       "['time.index',\n",
       " 'tv.volume',\n",
       " 'tv.spend',\n",
       " 'search.clicks',\n",
       " 'search.imps',\n",
       " 'search.matching.query.volume',\n",
       " 'search.query.volume',\n",
       " 'search.spend',\n",
       " 'total.spend',\n",
       " 'brand.sales',\n",
       " 'competitor.sales',\n",
       " 'revenue',\n",
       " 'profit',\n",
       " 'tv.budget.index',\n",
       " 'tv.budget',\n",
       " 'search.budget.index',\n",
       " 'search.budget',\n",
       " 'market.rate',\n",
       " 'date']"
      ]
     },
     "execution_count": 8,
     "metadata": {},
     "output_type": "execute_result"
    }
   ],
   "source": [
    "df.columns.to_list()"
   ]
  },
  {
   "cell_type": "code",
   "execution_count": null,
   "id": "e5a51a70",
   "metadata": {},
   "outputs": [],
   "source": []
  },
  {
   "cell_type": "code",
   "execution_count": null,
   "id": "5809158f",
   "metadata": {},
   "outputs": [],
   "source": []
  },
  {
   "cell_type": "code",
   "execution_count": null,
   "id": "3ef2dfea",
   "metadata": {},
   "outputs": [],
   "source": []
  },
  {
   "cell_type": "code",
   "execution_count": null,
   "id": "f6c270ba",
   "metadata": {},
   "outputs": [],
   "source": []
  },
  {
   "cell_type": "code",
   "execution_count": null,
   "id": "cb340338",
   "metadata": {},
   "outputs": [],
   "source": []
  },
  {
   "cell_type": "code",
   "execution_count": 17,
   "id": "52ad7f32",
   "metadata": {},
   "outputs": [],
   "source": [
    "import sys"
   ]
  },
  {
   "cell_type": "code",
   "execution_count": 19,
   "id": "0c97ef71",
   "metadata": {},
   "outputs": [],
   "source": [
    "sys.path.append(\"/Users/MikeFitzgerald/Documents/github/pi-robyn-hack/streamlit\")"
   ]
  },
  {
   "cell_type": "code",
   "execution_count": 21,
   "id": "6a11d097",
   "metadata": {},
   "outputs": [],
   "source": [
    "import robyn_input_helper_funcs as rfuncs"
   ]
  },
  {
   "cell_type": "code",
   "execution_count": 22,
   "id": "aff725fc",
   "metadata": {},
   "outputs": [
    {
     "data": {
      "text/plain": [
       "<function robyn_input_helper_funcs.generate_var_dict(df, column_tags=['SPEND', 'PRICE', 'SALES_VALUE', 'IMPRESSIONS', 'TRP'])>"
      ]
     },
     "execution_count": 22,
     "metadata": {},
     "output_type": "execute_result"
    }
   ],
   "source": [
    "rfuncs.generate_var_dict"
   ]
  },
  {
   "cell_type": "code",
   "execution_count": 23,
   "id": "5f4566d1",
   "metadata": {},
   "outputs": [],
   "source": [
    "import inspect"
   ]
  },
  {
   "cell_type": "code",
   "execution_count": 25,
   "id": "4ae9f8b7",
   "metadata": {},
   "outputs": [
    {
     "name": "stdout",
     "output_type": "stream",
     "text": [
      "def generate_var_dict(\n",
      "    df, column_tags=[r\"SPEND\", r\"PRICE\", r\"SALES_VALUE\", r\"IMPRESSIONS\", r\"TRP\"]\n",
      "):\n",
      "    \"\"\"Create dictionary of variable types, e.g. Spend, Sales, TV, etc. using column name regexes\"\"\"\n",
      "    var_dict = {}\n",
      "    columns = df.columns.to_list()\n",
      "    regex_list = [re.compile(i) for i in column_tags]\n",
      "    regex_dict = dict(zip(column_tags, regex_list))\n",
      "\n",
      "    for i in column_tags:\n",
      "        var_dict[i] = []\n",
      "        for j in columns:\n",
      "            if regex_dict[i].search(j) is None:\n",
      "                pass\n",
      "            else:\n",
      "                var_dict[i].append(j)\n",
      "\n",
      "    return var_dict\n",
      "\n"
     ]
    }
   ],
   "source": [
    "print(inspect.getsource(rfuncs.generate_var_dict))"
   ]
  },
  {
   "cell_type": "code",
   "execution_count": 29,
   "id": "81557def",
   "metadata": {},
   "outputs": [
    {
     "data": {
      "text/plain": [
       "['time.index',\n",
       " 'tv.volume',\n",
       " 'tv.spend',\n",
       " 'search.clicks',\n",
       " 'search.imps',\n",
       " 'search.matching.query.volume',\n",
       " 'search.query.volume',\n",
       " 'search.spend',\n",
       " 'total.spend',\n",
       " 'brand.sales',\n",
       " 'competitor.sales',\n",
       " 'revenue',\n",
       " 'profit',\n",
       " 'tv.budget.index',\n",
       " 'tv.budget',\n",
       " 'search.budget.index',\n",
       " 'search.budget',\n",
       " 'market.rate',\n",
       " 'date']"
      ]
     },
     "execution_count": 29,
     "metadata": {},
     "output_type": "execute_result"
    }
   ],
   "source": [
    "df.columns.to_list()"
   ]
  },
  {
   "cell_type": "code",
   "execution_count": null,
   "id": "9978cd1c",
   "metadata": {},
   "outputs": [],
   "source": [
    "tags = [r\"spend\",r\"volume]"
   ]
  }
 ],
 "metadata": {
  "kernelspec": {
   "display_name": "Python 3 (ipykernel)",
   "language": "python",
   "name": "python3"
  },
  "language_info": {
   "codemirror_mode": {
    "name": "ipython",
    "version": 3
   },
   "file_extension": ".py",
   "mimetype": "text/x-python",
   "name": "python",
   "nbconvert_exporter": "python",
   "pygments_lexer": "ipython3",
   "version": "3.9.6"
  }
 },
 "nbformat": 4,
 "nbformat_minor": 5
}
