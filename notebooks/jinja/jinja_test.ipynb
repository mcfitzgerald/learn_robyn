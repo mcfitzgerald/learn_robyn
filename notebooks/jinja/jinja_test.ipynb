{
 "cells": [
  {
   "cell_type": "code",
   "execution_count": 1,
   "metadata": {},
   "outputs": [],
   "source": [
    "import jinja2"
   ]
  },
  {
   "cell_type": "code",
   "execution_count": 2,
   "metadata": {},
   "outputs": [],
   "source": [
    "env = jinja2.Environment(loader=jinja2.FileSystemLoader(\"./\"))"
   ]
  },
  {
   "cell_type": "code",
   "execution_count": 5,
   "metadata": {},
   "outputs": [],
   "source": [
    "robyn_input = {\n",
    "    \"header\": {\n",
    "        \"dt_input\": \"dat\",\n",
    "        \"dt_holidays\": \"dt_prophet_holidays\",\n",
    "        \"date_var\": \"DATE\",\n",
    "        \"dep_var\": \"TP_LUMINOUS_SALES_VALUE\",\n",
    "        \"dep_var_type\": \"revenue\",\n",
    "        \"prophet_vars\": [\n",
    "            \"trend\",\n",
    "            \"season\",\n",
    "            \"holiday\"\n",
    "        ],\n",
    "        \"prophet_country\": \"MX\",\n",
    "        \"window_start\": \"2018-01-22\",\n",
    "        \"window_end\": \"2022-02-21\",\n",
    "        \"adstock\": \"geometric\"\n",
    "    },\n",
    "    \"variables\": {\n",
    "        \"context_vars\": [\n",
    "            \"TP_LUMINOUS_AVG_PRICE\",\n",
    "            \"TP_COLGATE_NOAD_AVG_PRICE\",\n",
    "            \"TP_COMPETITORS_AVG_PRICE\",\n",
    "            \"TP_COMPETITORS_SALES_VALUE\",\n",
    "            \"TP_COLGATE_NOAD_SALES_VALUE\"\n",
    "        ],\n",
    "        \"paid_media_spends\": [\n",
    "            \"TV_LUMINOUS_SPEND\",\n",
    "            \"GL_LUMINOUS_SPEND\",\n",
    "            \"FB_LUMINOUS_SPEND\",\n",
    "            \"DV_LUMINOUS_SPEND\",\n",
    "            \"GL_NATURALS_SPEND\"\n",
    "        ],\n",
    "        \"paid_media_vars\": [\n",
    "            \"TV_LUMINOUS_TRP\",\n",
    "            \"GL_LUMINOUS_IMPRESSIONS\",\n",
    "            \"FB_LUMINOUS_IMPRESSIONS\",\n",
    "            \"DV_LUMINOUS_IMPRESSIONS\",\n",
    "            \"GL_NATURALS_IMPRESSIONS\"\n",
    "        ]\n",
    "    }\n",
    "}\n"
   ]
  },
  {
   "cell_type": "code",
   "execution_count": 6,
   "metadata": {},
   "outputs": [],
   "source": [
    "template = env.get_template(\"robyn_input_template.jinja\")"
   ]
  },
  {
   "cell_type": "code",
   "execution_count": 7,
   "metadata": {},
   "outputs": [
    {
     "name": "stdout",
     "output_type": "stream",
     "text": [
      "InputCollect <- robyn_inputs(\n",
      "    dt_input = \"dat\"\n",
      "  ,dt_holidays = \"dt_prophet_holidays\"\n",
      "  ,date_var = \"DATE\" # date format must be \"2020-01-01\"\n",
      "  ,dep_var = \"TP_LUMINOUS_SALES_VALUE\" # there should be only one dependent variable\n",
      "  ,dep_var_type = \"revenue\" # \"revenue\" (ROI) or \"conversion\" (CPA)\n",
      "  ,prophet_vars = c( \"trend\",  \"season\",  \"holiday\", )# \"trend\",\"season\", \"weekday\" & \"holiday\"\n",
      "  ,prophet_country = MX # input one country. dt_prophet_holidays includes 59 countries by default\n",
      "  ,context_vars = c( \"TP_LUMINOUS_AVG_PRICE\",  \"TP_COLGATE_NOAD_AVG_PRICE\",  \"TP_COMPETITORS_AVG_PRICE\",  \"TP_COMPETITORS_SALES_VALUE\",  \"TP_COLGATE_NOAD_SALES_VALUE\", ) # e.g. competitors, discount, unemployment etc\n",
      "  ,paid_media_spends = c( \"TV_LUMINOUS_SPEND\",  \"GL_LUMINOUS_SPEND\",  \"FB_LUMINOUS_SPEND\",  \"DV_LUMINOUS_SPEND\",  \"GL_NATURALS_SPEND\", ) # mandatory input\n",
      "  ,paid_media_vars = c( \"TV_LUMINOUS_TRP\",  \"GL_LUMINOUS_IMPRESSIONS\",  \"FB_LUMINOUS_IMPRESSIONS\",  \"DV_LUMINOUS_IMPRESSIONS\",  \"GL_NATURALS_IMPRESSIONS\", ) # mandatory.\n",
      "  # paid_media_vars must have same order as paid_media_spends. Use media exposure metrics like\n",
      "  # impressions, GRP etc. If not applicable, use spend instead.\n",
      "  ,window_start = \"2018-01-22\"\n",
      "  ,window_end = \"2022-02-21\"\n",
      "  ,adstock = \"geometric\"\n"
     ]
    }
   ],
   "source": [
    "print(template.render(robyn_input))"
   ]
  },
  {
   "cell_type": "code",
   "execution_count": 2,
   "metadata": {},
   "outputs": [],
   "source": [
    "template = \"\"\"hostname {{ hostname }}\n",
    "\n",
    "no ip domain lookup\n",
    "ip domain name local.lab\n",
    "ip name-server {{ name_server_pri }}\n",
    "ip name-server {{ name_server_sec }}\n",
    "\n",
    "ntp server {{ ntp_server_pri }} prefer\n",
    "ntp server {{ ntp_server_sec }}\"\"\""
   ]
  },
  {
   "cell_type": "code",
   "execution_count": 3,
   "metadata": {},
   "outputs": [],
   "source": [
    "data = {\n",
    "    \"hostname\": \"core-sw-waw-01\",\n",
    "    \"name_server_pri\": \"1.1.1.1\",\n",
    "    \"name_server_sec\": \"8.8.8.8\",\n",
    "    \"ntp_server_pri\": '\"0.pool.ntp.org\"'\n",
    "    ,\n",
    "    \"ntp_server_sec\": \"1.pool.ntp.org\",\n",
    "}"
   ]
  },
  {
   "cell_type": "code",
   "execution_count": 4,
   "metadata": {},
   "outputs": [],
   "source": [
    "j2_template = Template(template)"
   ]
  },
  {
   "cell_type": "code",
   "execution_count": 5,
   "metadata": {},
   "outputs": [
    {
     "name": "stdout",
     "output_type": "stream",
     "text": [
      "hostname core-sw-waw-01\n",
      "\n",
      "no ip domain lookup\n",
      "ip domain name local.lab\n",
      "ip name-server 1.1.1.1\n",
      "ip name-server 8.8.8.8\n",
      "\n",
      "ntp server \"0.pool.ntp.org\" prefer\n",
      "ntp server 1.pool.ntp.org\n"
     ]
    }
   ],
   "source": [
    "print(j2_template.render(data))"
   ]
  },
  {
   "cell_type": "code",
   "execution_count": 11,
   "metadata": {},
   "outputs": [],
   "source": [
    "with open(\"out.txt\",\"w\") as f:\n",
    "    f.writelines(j2_template.render(data))"
   ]
  },
  {
   "cell_type": "code",
   "execution_count": null,
   "metadata": {},
   "outputs": [],
   "source": []
  }
 ],
 "metadata": {
  "kernelspec": {
   "display_name": "Python 3.8.9 ('venv': venv)",
   "language": "python",
   "name": "python3"
  },
  "language_info": {
   "codemirror_mode": {
    "name": "ipython",
    "version": 3
   },
   "file_extension": ".py",
   "mimetype": "text/x-python",
   "name": "python",
   "nbconvert_exporter": "python",
   "pygments_lexer": "ipython3",
   "version": "3.8.9"
  },
  "orig_nbformat": 4,
  "vscode": {
   "interpreter": {
    "hash": "8433824a62177b7f894e9e38065ae29d5361d8227c00a9f45003ea937fc14243"
   }
  }
 },
 "nbformat": 4,
 "nbformat_minor": 2
}
